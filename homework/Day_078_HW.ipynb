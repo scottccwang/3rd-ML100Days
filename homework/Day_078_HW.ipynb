{
 "cells": [
  {
   "cell_type": "markdown",
   "metadata": {
    "id": "auEAuEgT4oXE"
   },
   "source": [
    "## Work\n",
    "1. 請嘗試將 preproc_x 替換成以每筆資料的 min/max 進行標準化至 -1 ~ 1 間，再進行訓練\n",
    "2. 請嘗試將 mlp 疊更深 (e.g 5~10 層)，進行訓練後觀察 learning curve 的走勢\n",
    "3. (optional) 請改用 GPU 進行訓練 (可善用 google colab)，比較使用 CPU 與 GPU 的訓練速度"
   ]
  },
  {
   "cell_type": "code",
   "execution_count": 1,
   "metadata": {
    "id": "L0HSsOA-4oXE"
   },
   "outputs": [
    {
     "name": "stderr",
     "output_type": "stream",
     "text": [
      "'nvidia-smi' 不是內部或外部命令、可執行的程式或批次檔。\n"
     ]
    }
   ],
   "source": [
    "## \n",
    "\"\"\"\n",
    "Your code here (optional)\n",
    "確認硬體資源\n",
    "\"\"\"\n",
    "!nvidia-smi"
   ]
  },
  {
   "cell_type": "code",
   "execution_count": 2,
   "metadata": {
    "id": "wujF_rVq4oXF",
    "outputId": "eb23eca8-6055-4eb3-8931-b2e7da7fa596"
   },
   "outputs": [
    {
     "name": "stderr",
     "output_type": "stream",
     "text": [
      "Using TensorFlow backend.\n",
      "C:\\ProgramData\\Anaconda3\\lib\\site-packages\\tensorflow\\python\\framework\\dtypes.py:526: FutureWarning: Passing (type, 1) or '1type' as a synonym of type is deprecated; in a future version of numpy, it will be understood as (type, (1,)) / '(1,)type'.\n",
      "  _np_qint8 = np.dtype([(\"qint8\", np.int8, 1)])\n",
      "C:\\ProgramData\\Anaconda3\\lib\\site-packages\\tensorflow\\python\\framework\\dtypes.py:527: FutureWarning: Passing (type, 1) or '1type' as a synonym of type is deprecated; in a future version of numpy, it will be understood as (type, (1,)) / '(1,)type'.\n",
      "  _np_quint8 = np.dtype([(\"quint8\", np.uint8, 1)])\n",
      "C:\\ProgramData\\Anaconda3\\lib\\site-packages\\tensorflow\\python\\framework\\dtypes.py:528: FutureWarning: Passing (type, 1) or '1type' as a synonym of type is deprecated; in a future version of numpy, it will be understood as (type, (1,)) / '(1,)type'.\n",
      "  _np_qint16 = np.dtype([(\"qint16\", np.int16, 1)])\n",
      "C:\\ProgramData\\Anaconda3\\lib\\site-packages\\tensorflow\\python\\framework\\dtypes.py:529: FutureWarning: Passing (type, 1) or '1type' as a synonym of type is deprecated; in a future version of numpy, it will be understood as (type, (1,)) / '(1,)type'.\n",
      "  _np_quint16 = np.dtype([(\"quint16\", np.uint16, 1)])\n",
      "C:\\ProgramData\\Anaconda3\\lib\\site-packages\\tensorflow\\python\\framework\\dtypes.py:530: FutureWarning: Passing (type, 1) or '1type' as a synonym of type is deprecated; in a future version of numpy, it will be understood as (type, (1,)) / '(1,)type'.\n",
      "  _np_qint32 = np.dtype([(\"qint32\", np.int32, 1)])\n",
      "C:\\ProgramData\\Anaconda3\\lib\\site-packages\\tensorflow\\python\\framework\\dtypes.py:535: FutureWarning: Passing (type, 1) or '1type' as a synonym of type is deprecated; in a future version of numpy, it will be understood as (type, (1,)) / '(1,)type'.\n",
      "  np_resource = np.dtype([(\"resource\", np.ubyte, 1)])\n"
     ]
    }
   ],
   "source": [
    "import os\n",
    "import keras\n",
    "\n",
    "# 請嘗試設定 GPU：os.environ\n",
    "os.environ[\"CUDA_VISIBLE_DEVICES\"] = \"\""
   ]
  },
  {
   "cell_type": "code",
   "execution_count": 3,
   "metadata": {
    "id": "mD7ScVX24oXF"
   },
   "outputs": [],
   "source": [
    "train, test = keras.datasets.cifar10.load_data()"
   ]
  },
  {
   "cell_type": "code",
   "execution_count": 4,
   "metadata": {
    "id": "cv2Wknx_4oXF"
   },
   "outputs": [],
   "source": [
    "## 資料前處理\n",
    "\"\"\"\n",
    "Your code here\n",
    "\"\"\"\n",
    "def preproc_x(x, flatten=True):\n",
    "    x = (x - x.min()) / (x.max() - x.min())\n",
    "    x = x * 2 - 1\n",
    "    if flatten:\n",
    "        x = x.reshape((len(x), -1))    \n",
    "    return x\n",
    "\n",
    "def preproc_y(y, num_classes=10):\n",
    "    if y.shape[-1] == 1:\n",
    "        y = keras.utils.to_categorical(y, num_classes)\n",
    "    return y"
   ]
  },
  {
   "cell_type": "code",
   "execution_count": 5,
   "metadata": {
    "id": "zp2WdT4d4oXF"
   },
   "outputs": [],
   "source": [
    "x_train, y_train = train\n",
    "x_test, y_test = test\n",
    "\n",
    "# Preproc the inputs\n",
    "x_train = preproc_x(x_train)\n",
    "x_test = preproc_x(x_test)\n",
    "\n",
    "# Preprc the outputs\n",
    "y_train = preproc_y(y_train)\n",
    "y_test = preproc_y(y_test)"
   ]
  },
  {
   "cell_type": "code",
   "execution_count": 6,
   "metadata": {
    "id": "KBj2NiDK4oXF"
   },
   "outputs": [
    {
     "name": "stdout",
     "output_type": "stream",
     "text": [
      "WARNING:tensorflow:From C:\\ProgramData\\Anaconda3\\lib\\site-packages\\tensorflow\\python\\framework\\op_def_library.py:263: colocate_with (from tensorflow.python.framework.ops) is deprecated and will be removed in a future version.\n",
      "Instructions for updating:\n",
      "Colocations handled automatically by placer.\n",
      "_________________________________________________________________\n",
      "Layer (type)                 Output Shape              Param #   \n",
      "=================================================================\n",
      "input_1 (InputLayer)         (None, 3072)              0         \n",
      "_________________________________________________________________\n",
      "hidden_layer1 (Dense)        (None, 512)               1573376   \n",
      "_________________________________________________________________\n",
      "hidden_layer2 (Dense)        (None, 256)               131328    \n",
      "_________________________________________________________________\n",
      "hidden_layer3 (Dense)        (None, 256)               65792     \n",
      "_________________________________________________________________\n",
      "hidden_layer4 (Dense)        (None, 128)               32896     \n",
      "_________________________________________________________________\n",
      "hidden_layer5 (Dense)        (None, 128)               16512     \n",
      "_________________________________________________________________\n",
      "hidden_layer6 (Dense)        (None, 64)                8256      \n",
      "_________________________________________________________________\n",
      "hidden_layer7 (Dense)        (None, 64)                4160      \n",
      "_________________________________________________________________\n",
      "hidden_layer8 (Dense)        (None, 64)                4160      \n",
      "_________________________________________________________________\n",
      "hidden_layer9 (Dense)        (None, 32)                2080      \n",
      "_________________________________________________________________\n",
      "output (Dense)               (None, 10)                330       \n",
      "=================================================================\n",
      "Total params: 1,838,890\n",
      "Trainable params: 1,838,890\n",
      "Non-trainable params: 0\n",
      "_________________________________________________________________\n"
     ]
    }
   ],
   "source": [
    "\"\"\"Code Here\n",
    "建立你的神經網路\n",
    "\"\"\"\n",
    "def build_mlp(input_shape, output_units=10, num_neurons=[512, 256, 128]):\n",
    "    input_layer = keras.layers.Input(input_shape)\n",
    "    \n",
    "    for i, n_units in enumerate(num_neurons):\n",
    "        if i == 0:\n",
    "            x = keras.layers.Dense(units=n_units, activation=\"relu\", name=\"hidden_layer\"+str(i+1))(input_layer)\n",
    "        else:\n",
    "            x = keras.layers.Dense(units=n_units, activation=\"relu\", name=\"hidden_layer\"+str(i+1))(x)\n",
    "    \n",
    "    out = keras.layers.Dense(units=output_units, activation=\"softmax\", name=\"output\")(x)\n",
    "    \n",
    "    model = keras.models.Model(inputs=[input_layer], outputs=[out])\n",
    "    return model\n",
    "\n",
    "model = build_mlp(input_shape=x_train.shape[1:], num_neurons=[512, 256, 256, 128, 128, 64, 64, 64, 32])\n",
    "model.summary()"
   ]
  },
  {
   "cell_type": "code",
   "execution_count": 7,
   "metadata": {
    "id": "uejU37q-4oXF"
   },
   "outputs": [],
   "source": [
    "## 超參數設定\n",
    "LEARNING_RATE = 0.001\n",
    "EPOCHS = 100\n",
    "BATCH_SIZE = 256"
   ]
  },
  {
   "cell_type": "code",
   "execution_count": 8,
   "metadata": {
    "id": "FePHihT34oXG"
   },
   "outputs": [],
   "source": [
    "optimizer = keras.optimizers.Adam(lr=LEARNING_RATE)\n",
    "model.compile(loss=\"categorical_crossentropy\", metrics=[\"accuracy\"], optimizer=optimizer)"
   ]
  },
  {
   "cell_type": "code",
   "execution_count": 9,
   "metadata": {
    "id": "LmLgZXCQ4oXG",
    "outputId": "cb609889-f8fe-47e8-b64c-27db5202b5e5"
   },
   "outputs": [
    {
     "name": "stdout",
     "output_type": "stream",
     "text": [
      "WARNING:tensorflow:From C:\\ProgramData\\Anaconda3\\lib\\site-packages\\tensorflow\\python\\ops\\math_ops.py:3066: to_int32 (from tensorflow.python.ops.math_ops) is deprecated and will be removed in a future version.\n",
      "Instructions for updating:\n",
      "Use tf.cast instead.\n",
      "Train on 50000 samples, validate on 10000 samples\n",
      "Epoch 1/100\n",
      "50000/50000 [==============================] - 34s 670us/step - loss: 1.7852 - acc: 0.3621 - val_loss: 1.6099 - val_acc: 0.4325\n",
      "Epoch 2/100\n",
      "50000/50000 [==============================] - 11s 216us/step - loss: 1.5294 - acc: 0.4600 - val_loss: 1.4878 - val_acc: 0.4742\n",
      "Epoch 3/100\n",
      "50000/50000 [==============================] - 11s 216us/step - loss: 1.4116 - acc: 0.5031 - val_loss: 1.4171 - val_acc: 0.5076\n",
      "Epoch 4/100\n",
      "50000/50000 [==============================] - 11s 212us/step - loss: 1.3096 - acc: 0.5414 - val_loss: 1.4064 - val_acc: 0.5083\n",
      "Epoch 5/100\n",
      "50000/50000 [==============================] - 10s 207us/step - loss: 1.2281 - acc: 0.5691 - val_loss: 1.3758 - val_acc: 0.5227\n",
      "Epoch 6/100\n",
      "50000/50000 [==============================] - 10s 209us/step - loss: 1.1533 - acc: 0.5927 - val_loss: 1.3582 - val_acc: 0.5278\n",
      "Epoch 7/100\n",
      "50000/50000 [==============================] - 10s 210us/step - loss: 1.0827 - acc: 0.6176 - val_loss: 1.3865 - val_acc: 0.5261\n",
      "Epoch 8/100\n",
      "50000/50000 [==============================] - 11s 211us/step - loss: 1.0057 - acc: 0.6473 - val_loss: 1.3975 - val_acc: 0.5342\n",
      "Epoch 9/100\n",
      "50000/50000 [==============================] - 11s 211us/step - loss: 0.9439 - acc: 0.6684 - val_loss: 1.4854 - val_acc: 0.5205\n",
      "Epoch 10/100\n",
      "50000/50000 [==============================] - 11s 211us/step - loss: 0.8801 - acc: 0.6904 - val_loss: 1.4486 - val_acc: 0.5341\n",
      "Epoch 11/100\n",
      "50000/50000 [==============================] - 11s 212us/step - loss: 0.8123 - acc: 0.7151 - val_loss: 1.5227 - val_acc: 0.5444\n",
      "Epoch 12/100\n",
      "50000/50000 [==============================] - 11s 211us/step - loss: 0.7530 - acc: 0.7348 - val_loss: 1.4907 - val_acc: 0.5385\n",
      "Epoch 13/100\n",
      "50000/50000 [==============================] - 11s 211us/step - loss: 0.6979 - acc: 0.7543 - val_loss: 1.5570 - val_acc: 0.5423\n",
      "Epoch 14/100\n",
      "50000/50000 [==============================] - 11s 211us/step - loss: 0.6438 - acc: 0.7730 - val_loss: 1.6264 - val_acc: 0.5273\n",
      "Epoch 15/100\n",
      "50000/50000 [==============================] - 11s 213us/step - loss: 0.5945 - acc: 0.7934 - val_loss: 1.6156 - val_acc: 0.5446\n",
      "Epoch 16/100\n",
      "50000/50000 [==============================] - 11s 211us/step - loss: 0.5490 - acc: 0.8076 - val_loss: 1.7793 - val_acc: 0.5374\n",
      "Epoch 17/100\n",
      "50000/50000 [==============================] - 11s 210us/step - loss: 0.5026 - acc: 0.8238 - val_loss: 1.8220 - val_acc: 0.5365\n",
      "Epoch 18/100\n",
      "50000/50000 [==============================] - 11s 211us/step - loss: 0.4647 - acc: 0.8394 - val_loss: 1.8446 - val_acc: 0.5401\n",
      "Epoch 19/100\n",
      "50000/50000 [==============================] - 11s 212us/step - loss: 0.4354 - acc: 0.8495 - val_loss: 2.0013 - val_acc: 0.5362\n",
      "Epoch 20/100\n",
      "50000/50000 [==============================] - 11s 213us/step - loss: 0.3982 - acc: 0.8618 - val_loss: 2.0655 - val_acc: 0.5342\n",
      "Epoch 21/100\n",
      "50000/50000 [==============================] - 11s 211us/step - loss: 0.3728 - acc: 0.8722 - val_loss: 2.1852 - val_acc: 0.5404\n",
      "Epoch 22/100\n",
      "50000/50000 [==============================] - 11s 212us/step - loss: 0.3536 - acc: 0.8784 - val_loss: 2.1305 - val_acc: 0.5386\n",
      "Epoch 23/100\n",
      "50000/50000 [==============================] - 11s 215us/step - loss: 0.3153 - acc: 0.8923 - val_loss: 2.2020 - val_acc: 0.5364\n",
      "Epoch 24/100\n",
      "50000/50000 [==============================] - 11s 213us/step - loss: 0.2963 - acc: 0.8984 - val_loss: 2.3356 - val_acc: 0.5251\n",
      "Epoch 25/100\n",
      "50000/50000 [==============================] - 11s 217us/step - loss: 0.2898 - acc: 0.9012 - val_loss: 2.3096 - val_acc: 0.5330\n",
      "Epoch 26/100\n",
      "50000/50000 [==============================] - 11s 213us/step - loss: 0.2648 - acc: 0.9100 - val_loss: 2.2708 - val_acc: 0.5382\n",
      "Epoch 27/100\n",
      "50000/50000 [==============================] - 11s 213us/step - loss: 0.2541 - acc: 0.9132 - val_loss: 2.5084 - val_acc: 0.5280\n",
      "Epoch 28/100\n",
      "50000/50000 [==============================] - 11s 212us/step - loss: 0.2441 - acc: 0.9169 - val_loss: 2.4422 - val_acc: 0.5324\n",
      "Epoch 29/100\n",
      "50000/50000 [==============================] - 11s 211us/step - loss: 0.2185 - acc: 0.9251 - val_loss: 2.6401 - val_acc: 0.5289\n",
      "Epoch 30/100\n",
      "50000/50000 [==============================] - 11s 210us/step - loss: 0.2209 - acc: 0.9240 - val_loss: 2.5427 - val_acc: 0.5313\n",
      "Epoch 31/100\n",
      "50000/50000 [==============================] - 11s 217us/step - loss: 0.2062 - acc: 0.9295 - val_loss: 2.5348 - val_acc: 0.5261\n",
      "Epoch 32/100\n",
      "50000/50000 [==============================] - 11s 213us/step - loss: 0.1935 - acc: 0.9341 - val_loss: 2.7227 - val_acc: 0.5326\n",
      "Epoch 33/100\n",
      "50000/50000 [==============================] - 11s 212us/step - loss: 0.1867 - acc: 0.9359 - val_loss: 2.6574 - val_acc: 0.5237\n",
      "Epoch 34/100\n",
      "50000/50000 [==============================] - 11s 212us/step - loss: 0.1839 - acc: 0.9377 - val_loss: 2.7183 - val_acc: 0.5323\n",
      "Epoch 35/100\n",
      "50000/50000 [==============================] - 11s 212us/step - loss: 0.1697 - acc: 0.9427 - val_loss: 2.7220 - val_acc: 0.5318\n",
      "Epoch 36/100\n",
      "50000/50000 [==============================] - 11s 213us/step - loss: 0.1687 - acc: 0.9425 - val_loss: 2.8010 - val_acc: 0.5340\n",
      "Epoch 37/100\n",
      "50000/50000 [==============================] - 11s 213us/step - loss: 0.1633 - acc: 0.9460 - val_loss: 2.7730 - val_acc: 0.5308\n",
      "Epoch 38/100\n",
      "50000/50000 [==============================] - 11s 224us/step - loss: 0.1583 - acc: 0.9462 - val_loss: 2.8058 - val_acc: 0.5293\n",
      "Epoch 39/100\n",
      "50000/50000 [==============================] - 11s 217us/step - loss: 0.1498 - acc: 0.9507 - val_loss: 3.0492 - val_acc: 0.5246\n",
      "Epoch 40/100\n",
      "50000/50000 [==============================] - 10s 203us/step - loss: 0.1533 - acc: 0.9481 - val_loss: 2.9501 - val_acc: 0.5340\n",
      "Epoch 41/100\n",
      "50000/50000 [==============================] - 10s 202us/step - loss: 0.1533 - acc: 0.9481 - val_loss: 2.9522 - val_acc: 0.5356\n",
      "Epoch 42/100\n",
      "50000/50000 [==============================] - 10s 201us/step - loss: 0.1364 - acc: 0.9549 - val_loss: 2.9471 - val_acc: 0.5260\n",
      "Epoch 43/100\n",
      "50000/50000 [==============================] - 10s 202us/step - loss: 0.1390 - acc: 0.9533 - val_loss: 2.8104 - val_acc: 0.5343\n",
      "Epoch 44/100\n",
      "50000/50000 [==============================] - 10s 201us/step - loss: 0.1216 - acc: 0.9605 - val_loss: 3.0083 - val_acc: 0.5395\n",
      "Epoch 45/100\n",
      "50000/50000 [==============================] - 10s 201us/step - loss: 0.1321 - acc: 0.9562 - val_loss: 2.9940 - val_acc: 0.5326\n",
      "Epoch 46/100\n",
      "50000/50000 [==============================] - 10s 201us/step - loss: 0.1330 - acc: 0.9563 - val_loss: 2.9755 - val_acc: 0.5291\n",
      "Epoch 47/100\n",
      "50000/50000 [==============================] - 10s 202us/step - loss: 0.1211 - acc: 0.9604 - val_loss: 3.0487 - val_acc: 0.5374\n",
      "Epoch 48/100\n",
      "50000/50000 [==============================] - 10s 202us/step - loss: 0.1157 - acc: 0.9618 - val_loss: 2.9611 - val_acc: 0.5321\n",
      "Epoch 49/100\n",
      "50000/50000 [==============================] - 10s 201us/step - loss: 0.1180 - acc: 0.9618 - val_loss: 2.8705 - val_acc: 0.5361\n",
      "Epoch 50/100\n",
      "50000/50000 [==============================] - 10s 205us/step - loss: 0.1171 - acc: 0.9617 - val_loss: 2.9726 - val_acc: 0.5323\n",
      "Epoch 51/100\n",
      "50000/50000 [==============================] - 10s 204us/step - loss: 0.1116 - acc: 0.9640 - val_loss: 2.9619 - val_acc: 0.5357\n",
      "Epoch 52/100\n",
      "50000/50000 [==============================] - 10s 206us/step - loss: 0.1126 - acc: 0.9635 - val_loss: 2.8987 - val_acc: 0.5384\n",
      "Epoch 53/100\n",
      "50000/50000 [==============================] - 10s 203us/step - loss: 0.1130 - acc: 0.9633 - val_loss: 2.9712 - val_acc: 0.5329\n",
      "Epoch 54/100\n",
      "50000/50000 [==============================] - 10s 202us/step - loss: 0.1061 - acc: 0.9648 - val_loss: 3.1601 - val_acc: 0.5318\n",
      "Epoch 55/100\n",
      "50000/50000 [==============================] - 10s 204us/step - loss: 0.1117 - acc: 0.9623 - val_loss: 3.0188 - val_acc: 0.5376\n",
      "Epoch 56/100\n",
      "50000/50000 [==============================] - 10s 204us/step - loss: 0.1009 - acc: 0.9666 - val_loss: 3.1483 - val_acc: 0.5325\n"
     ]
    },
    {
     "name": "stdout",
     "output_type": "stream",
     "text": [
      "Epoch 57/100\n",
      "50000/50000 [==============================] - 10s 203us/step - loss: 0.0945 - acc: 0.9702 - val_loss: 3.1665 - val_acc: 0.5354\n",
      "Epoch 58/100\n",
      "50000/50000 [==============================] - 10s 202us/step - loss: 0.0985 - acc: 0.9678 - val_loss: 2.9941 - val_acc: 0.5298\n",
      "Epoch 59/100\n",
      "50000/50000 [==============================] - 10s 205us/step - loss: 0.0989 - acc: 0.9684 - val_loss: 3.0313 - val_acc: 0.5360\n",
      "Epoch 60/100\n",
      "50000/50000 [==============================] - 11s 213us/step - loss: 0.0981 - acc: 0.9686 - val_loss: 3.0362 - val_acc: 0.5300\n",
      "Epoch 61/100\n",
      "50000/50000 [==============================] - 10s 204us/step - loss: 0.0969 - acc: 0.9682 - val_loss: 3.0539 - val_acc: 0.5333\n",
      "Epoch 62/100\n",
      "50000/50000 [==============================] - 10s 208us/step - loss: 0.0949 - acc: 0.9683 - val_loss: 3.1693 - val_acc: 0.5328\n",
      "Epoch 63/100\n",
      "50000/50000 [==============================] - 10s 204us/step - loss: 0.0894 - acc: 0.9716 - val_loss: 3.1128 - val_acc: 0.5333\n",
      "Epoch 64/100\n",
      "50000/50000 [==============================] - 10s 203us/step - loss: 0.0894 - acc: 0.9704 - val_loss: 3.1450 - val_acc: 0.5303\n",
      "Epoch 65/100\n",
      "50000/50000 [==============================] - 10s 205us/step - loss: 0.0901 - acc: 0.9715 - val_loss: 3.1477 - val_acc: 0.5334\n",
      "Epoch 66/100\n",
      "50000/50000 [==============================] - 10s 204us/step - loss: 0.0918 - acc: 0.9704 - val_loss: 3.2664 - val_acc: 0.5289\n",
      "Epoch 67/100\n",
      "50000/50000 [==============================] - 10s 204us/step - loss: 0.0840 - acc: 0.9718 - val_loss: 3.3868 - val_acc: 0.5297\n",
      "Epoch 68/100\n",
      "50000/50000 [==============================] - 10s 204us/step - loss: 0.0784 - acc: 0.9744 - val_loss: 3.2468 - val_acc: 0.5328\n",
      "Epoch 69/100\n",
      "50000/50000 [==============================] - 10s 205us/step - loss: 0.0834 - acc: 0.9729 - val_loss: 3.1732 - val_acc: 0.5362\n",
      "Epoch 70/100\n",
      "50000/50000 [==============================] - 10s 203us/step - loss: 0.0778 - acc: 0.9754 - val_loss: 3.2132 - val_acc: 0.5343\n",
      "Epoch 71/100\n",
      "50000/50000 [==============================] - 10s 204us/step - loss: 0.0823 - acc: 0.9736 - val_loss: 3.1729 - val_acc: 0.5295\n",
      "Epoch 72/100\n",
      "50000/50000 [==============================] - 10s 203us/step - loss: 0.0756 - acc: 0.9753 - val_loss: 3.2255 - val_acc: 0.5303\n",
      "Epoch 73/100\n",
      "50000/50000 [==============================] - 10s 203us/step - loss: 0.0871 - acc: 0.9722 - val_loss: 3.0370 - val_acc: 0.5362\n",
      "Epoch 74/100\n",
      "50000/50000 [==============================] - 10s 204us/step - loss: 0.0755 - acc: 0.9756 - val_loss: 3.2188 - val_acc: 0.5371\n",
      "Epoch 75/100\n",
      "50000/50000 [==============================] - 10s 205us/step - loss: 0.0802 - acc: 0.9739 - val_loss: 3.0375 - val_acc: 0.5289\n",
      "Epoch 76/100\n",
      "50000/50000 [==============================] - 10s 205us/step - loss: 0.0806 - acc: 0.9743 - val_loss: 3.2294 - val_acc: 0.5356\n",
      "Epoch 77/100\n",
      "50000/50000 [==============================] - 10s 205us/step - loss: 0.0683 - acc: 0.9782 - val_loss: 3.2216 - val_acc: 0.5301\n",
      "Epoch 78/100\n",
      "50000/50000 [==============================] - 10s 204us/step - loss: 0.0708 - acc: 0.9780 - val_loss: 3.2734 - val_acc: 0.5334\n",
      "Epoch 79/100\n",
      "50000/50000 [==============================] - 10s 203us/step - loss: 0.0670 - acc: 0.9781 - val_loss: 3.2650 - val_acc: 0.5366\n",
      "Epoch 80/100\n",
      "50000/50000 [==============================] - 10s 203us/step - loss: 0.0750 - acc: 0.9763 - val_loss: 3.1827 - val_acc: 0.5350\n",
      "Epoch 81/100\n",
      "50000/50000 [==============================] - 10s 206us/step - loss: 0.0808 - acc: 0.9745 - val_loss: 3.2770 - val_acc: 0.5375\n",
      "Epoch 82/100\n",
      "50000/50000 [==============================] - 10s 206us/step - loss: 0.0715 - acc: 0.9775 - val_loss: 2.9819 - val_acc: 0.5356\n",
      "Epoch 83/100\n",
      "50000/50000 [==============================] - 10s 201us/step - loss: 0.0774 - acc: 0.9752 - val_loss: 3.1760 - val_acc: 0.5333\n",
      "Epoch 84/100\n",
      "50000/50000 [==============================] - 10s 202us/step - loss: 0.0728 - acc: 0.9758 - val_loss: 3.3748 - val_acc: 0.5287\n",
      "Epoch 85/100\n",
      "50000/50000 [==============================] - 10s 203us/step - loss: 0.0664 - acc: 0.9792 - val_loss: 3.2703 - val_acc: 0.5317\n",
      "Epoch 86/100\n",
      "50000/50000 [==============================] - 10s 202us/step - loss: 0.0689 - acc: 0.9769 - val_loss: 3.3324 - val_acc: 0.5333\n",
      "Epoch 87/100\n",
      "50000/50000 [==============================] - 10s 204us/step - loss: 0.0672 - acc: 0.9785 - val_loss: 3.0623 - val_acc: 0.5335\n",
      "Epoch 88/100\n",
      "50000/50000 [==============================] - 10s 203us/step - loss: 0.0592 - acc: 0.9804 - val_loss: 3.2260 - val_acc: 0.5340\n",
      "Epoch 89/100\n",
      "50000/50000 [==============================] - 10s 204us/step - loss: 0.0703 - acc: 0.9774 - val_loss: 3.1157 - val_acc: 0.5393\n",
      "Epoch 90/100\n",
      "50000/50000 [==============================] - 10s 203us/step - loss: 0.0672 - acc: 0.9787 - val_loss: 3.4284 - val_acc: 0.5327\n",
      "Epoch 91/100\n",
      "50000/50000 [==============================] - 10s 202us/step - loss: 0.0653 - acc: 0.9790 - val_loss: 3.2705 - val_acc: 0.5360\n",
      "Epoch 92/100\n",
      "50000/50000 [==============================] - 10s 203us/step - loss: 0.0703 - acc: 0.9779 - val_loss: 3.1348 - val_acc: 0.5334\n",
      "Epoch 93/100\n",
      "50000/50000 [==============================] - 10s 204us/step - loss: 0.0675 - acc: 0.9780 - val_loss: 3.1651 - val_acc: 0.5397\n",
      "Epoch 94/100\n",
      "50000/50000 [==============================] - 10s 202us/step - loss: 0.0545 - acc: 0.9825 - val_loss: 3.3541 - val_acc: 0.5340\n",
      "Epoch 95/100\n",
      "50000/50000 [==============================] - 10s 203us/step - loss: 0.0658 - acc: 0.9794 - val_loss: 3.4735 - val_acc: 0.5379\n",
      "Epoch 96/100\n",
      "50000/50000 [==============================] - 10s 204us/step - loss: 0.0649 - acc: 0.9801 - val_loss: 3.3987 - val_acc: 0.5370\n",
      "Epoch 97/100\n",
      "50000/50000 [==============================] - 10s 203us/step - loss: 0.0658 - acc: 0.9787 - val_loss: 3.3957 - val_acc: 0.5426\n",
      "Epoch 98/100\n",
      "50000/50000 [==============================] - 10s 202us/step - loss: 0.0597 - acc: 0.9816 - val_loss: 3.2840 - val_acc: 0.5338\n",
      "Epoch 99/100\n",
      "50000/50000 [==============================] - 10s 202us/step - loss: 0.0616 - acc: 0.9803 - val_loss: 3.4064 - val_acc: 0.5339\n",
      "Epoch 100/100\n",
      "50000/50000 [==============================] - 10s 204us/step - loss: 0.0619 - acc: 0.9803 - val_loss: 3.3311 - val_acc: 0.5348\n"
     ]
    },
    {
     "data": {
      "text/plain": [
       "<keras.callbacks.History at 0x1ba22a8b630>"
      ]
     },
     "execution_count": 9,
     "metadata": {},
     "output_type": "execute_result"
    }
   ],
   "source": [
    "model.fit(x_train, y_train, \n",
    "          epochs=EPOCHS, \n",
    "          batch_size=BATCH_SIZE, \n",
    "          validation_data=(x_test, y_test), \n",
    "          shuffle=True)"
   ]
  },
  {
   "cell_type": "code",
   "execution_count": 11,
   "metadata": {
    "id": "jThDeFlL4oXG",
    "outputId": "c8f6a381-da51-4682-8b02-fd9a0733007c"
   },
   "outputs": [
    {
     "data": {
      "image/png": "[encoded data removed]",
      "text/plain": [
       "<Figure size 432x288 with 1 Axes>"
      ]
     },
     "metadata": {
      "needs_background": "light"
     },
     "output_type": "display_data"
    },
    {
     "data": {
      "image/png": "[encoded data removed]",
      "text/plain": [
       "<Figure size 432x288 with 1 Axes>"
      ]
     },
     "metadata": {
      "needs_background": "light"
     },
     "output_type": "display_data"
    }
   ],
   "source": [
    "import matplotlib.pyplot as plt\n",
    "\n",
    "\n",
    "train_loss = model.history.history[\"loss\"]\n",
    "valid_loss = model.history.history[\"val_loss\"]\n",
    "\n",
    "train_acc = model.history.history[\"acc\"]\n",
    "valid_acc = model.history.history[\"val_acc\"]\n",
    "\n",
    "plt.plot(range(len(train_loss)), train_loss, label=\"train loss\")\n",
    "plt.plot(range(len(valid_loss)), valid_loss, label=\"valid loss\")\n",
    "plt.legend()\n",
    "plt.title(\"Loss\")\n",
    "plt.show()\n",
    "\n",
    "plt.plot(range(len(train_acc)), train_acc, label=\"train accuracy\")\n",
    "plt.plot(range(len(valid_acc)), valid_acc, label=\"valid accuracy\")\n",
    "plt.legend()\n",
    "plt.title(\"Accuracy\")\n",
    "plt.show()"
   ]
  },
  {
   "cell_type": "code",
   "execution_count": null,
   "metadata": {},
   "outputs": [],
   "source": []
  }
 ],
 "metadata": {
  "colab": {
   "name": "Day078_CheckBeforeTrain_作業 (更新).ipynb",
   "provenance": []
  },
  "kernelspec": {
   "display_name": "Python 3",
   "language": "python",
   "name": "python3"
  },
  "language_info": {
   "codemirror_mode": {
    "name": "ipython",
    "version": 3
   },
   "file_extension": ".py",
   "mimetype": "text/x-python",
   "name": "python",
   "nbconvert_exporter": "python",
   "pygments_lexer": "ipython3",
   "version": "3.7.1"
  }
 },
 "nbformat": 4,
 "nbformat_minor": 1
}
