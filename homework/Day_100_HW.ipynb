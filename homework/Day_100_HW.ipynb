{
 "cells": [
  {
   "cell_type": "markdown",
   "metadata": {},
   "source": [
    "## 作業\n",
    "礙於不是所有同學都有 GPU ，這邊的範例使用的是簡化版本的 ResNet，確保所有同學都能夠順利訓練!\n",
    "\n",
    "\n",
    "最後一天的作業請閱讀這篇非常詳盡的[文章](https://blog.gtwang.org/programming/keras-resnet-50-pre-trained-model-build-dogs-cats-image-classification-system/)，基本上已經涵蓋了所有訓練　CNN 常用的技巧，請使用所有學過的訓練技巧，盡可能地提高 Cifar-10 的 test data 準確率，截圖你最佳的結果並上傳來完成最後一次的作業吧!\n",
    "\n",
    "另外這些技巧在 Kaggle 上也會被許多人使用，更有人會開發一些新的技巧，例如使把預訓練在 ImageNet 上的模型當成 feature extractor 後，再拿擷取出的特徵重新訓練新的模型，這些技巧再進階的課程我們會在提到，有興趣的同學也可以[參考](https://www.kaggle.com/insaff/img-feature-extraction-with-pretrained-resnet)"
   ]
  },
  {
   "cell_type": "code",
   "execution_count": 1,
   "metadata": {},
   "outputs": [
    {
     "name": "stderr",
     "output_type": "stream",
     "text": [
      "Using TensorFlow backend.\n",
      "C:\\ProgramData\\Anaconda3\\lib\\site-packages\\tensorflow\\python\\framework\\dtypes.py:526: FutureWarning: Passing (type, 1) or '1type' as a synonym of type is deprecated; in a future version of numpy, it will be understood as (type, (1,)) / '(1,)type'.\n",
      "  _np_qint8 = np.dtype([(\"qint8\", np.int8, 1)])\n",
      "C:\\ProgramData\\Anaconda3\\lib\\site-packages\\tensorflow\\python\\framework\\dtypes.py:527: FutureWarning: Passing (type, 1) or '1type' as a synonym of type is deprecated; in a future version of numpy, it will be understood as (type, (1,)) / '(1,)type'.\n",
      "  _np_quint8 = np.dtype([(\"quint8\", np.uint8, 1)])\n",
      "C:\\ProgramData\\Anaconda3\\lib\\site-packages\\tensorflow\\python\\framework\\dtypes.py:528: FutureWarning: Passing (type, 1) or '1type' as a synonym of type is deprecated; in a future version of numpy, it will be understood as (type, (1,)) / '(1,)type'.\n",
      "  _np_qint16 = np.dtype([(\"qint16\", np.int16, 1)])\n",
      "C:\\ProgramData\\Anaconda3\\lib\\site-packages\\tensorflow\\python\\framework\\dtypes.py:529: FutureWarning: Passing (type, 1) or '1type' as a synonym of type is deprecated; in a future version of numpy, it will be understood as (type, (1,)) / '(1,)type'.\n",
      "  _np_quint16 = np.dtype([(\"quint16\", np.uint16, 1)])\n",
      "C:\\ProgramData\\Anaconda3\\lib\\site-packages\\tensorflow\\python\\framework\\dtypes.py:530: FutureWarning: Passing (type, 1) or '1type' as a synonym of type is deprecated; in a future version of numpy, it will be understood as (type, (1,)) / '(1,)type'.\n",
      "  _np_qint32 = np.dtype([(\"qint32\", np.int32, 1)])\n",
      "C:\\ProgramData\\Anaconda3\\lib\\site-packages\\tensorflow\\python\\framework\\dtypes.py:535: FutureWarning: Passing (type, 1) or '1type' as a synonym of type is deprecated; in a future version of numpy, it will be understood as (type, (1,)) / '(1,)type'.\n",
      "  np_resource = np.dtype([(\"resource\", np.ubyte, 1)])\n"
     ]
    }
   ],
   "source": [
    "import keras\n",
    "from keras.datasets import cifar10\n",
    "from keras.preprocessing.image import ImageDataGenerator\n",
    "from keras.models import Sequential\n",
    "from keras.layers import Dense, Dropout, Activation, Flatten\n",
    "from keras.layers import Conv2D, MaxPooling2D\n",
    "from keras.optimizers import RMSprop, Adam\n",
    "import os"
   ]
  },
  {
   "cell_type": "code",
   "execution_count": 5,
   "metadata": {},
   "outputs": [
    {
     "name": "stdout",
     "output_type": "stream",
     "text": [
      "x_train shape: (50000, 32, 32, 3)\n",
      "50000 train samples\n",
      "10000 test samples\n"
     ]
    }
   ],
   "source": [
    "batch_size = 128 # batch 的大小，如果出現 OOM error，請降低這個值\n",
    "num_classes = 10 # 類別的數量，Cifar 10 共有 10 個類別\n",
    "epochs = 30 # 訓練的 epochs 數量\n",
    "\n",
    "# 讀取資料並檢視\n",
    "(x_train, y_train), (x_test, y_test) = cifar10.load_data()\n",
    "print('x_train shape:', x_train.shape)\n",
    "print(x_train.shape[0], 'train samples')\n",
    "print(x_test.shape[0], 'test samples')\n",
    "x_train = x_train.astype('float32')\n",
    "x_test = x_test.astype('float32')\n",
    "x_train /= 255\n",
    "x_test /= 255\n",
    "\n",
    "# Convert class vectors to binary class matrices.\n",
    "y_train = keras.utils.to_categorical(y_train, num_classes)\n",
    "y_test = keras.utils.to_categorical(y_test, num_classes)"
   ]
  },
  {
   "cell_type": "code",
   "execution_count": 6,
   "metadata": {},
   "outputs": [
    {
     "name": "stdout",
     "output_type": "stream",
     "text": [
      "_________________________________________________________________\n",
      "Layer (type)                 Output Shape              Param #   \n",
      "=================================================================\n",
      "conv2d_5 (Conv2D)            (None, 32, 32, 32)        896       \n",
      "_________________________________________________________________\n",
      "activation_7 (Activation)    (None, 32, 32, 32)        0         \n",
      "_________________________________________________________________\n",
      "conv2d_6 (Conv2D)            (None, 30, 30, 32)        9248      \n",
      "_________________________________________________________________\n",
      "activation_8 (Activation)    (None, 30, 30, 32)        0         \n",
      "_________________________________________________________________\n",
      "max_pooling2d_3 (MaxPooling2 (None, 15, 15, 32)        0         \n",
      "_________________________________________________________________\n",
      "dropout_4 (Dropout)          (None, 15, 15, 32)        0         \n",
      "_________________________________________________________________\n",
      "conv2d_7 (Conv2D)            (None, 15, 15, 64)        18496     \n",
      "_________________________________________________________________\n",
      "activation_9 (Activation)    (None, 15, 15, 64)        0         \n",
      "_________________________________________________________________\n",
      "conv2d_8 (Conv2D)            (None, 13, 13, 64)        36928     \n",
      "_________________________________________________________________\n",
      "activation_10 (Activation)   (None, 13, 13, 64)        0         \n",
      "_________________________________________________________________\n",
      "max_pooling2d_4 (MaxPooling2 (None, 6, 6, 64)          0         \n",
      "_________________________________________________________________\n",
      "dropout_5 (Dropout)          (None, 6, 6, 64)          0         \n",
      "_________________________________________________________________\n",
      "flatten_2 (Flatten)          (None, 2304)              0         \n",
      "_________________________________________________________________\n",
      "dense_3 (Dense)              (None, 512)               1180160   \n",
      "_________________________________________________________________\n",
      "activation_11 (Activation)   (None, 512)               0         \n",
      "_________________________________________________________________\n",
      "dropout_6 (Dropout)          (None, 512)               0         \n",
      "_________________________________________________________________\n",
      "dense_4 (Dense)              (None, 10)                5130      \n",
      "_________________________________________________________________\n",
      "activation_12 (Activation)   (None, 10)                0         \n",
      "=================================================================\n",
      "Total params: 1,250,858\n",
      "Trainable params: 1,250,858\n",
      "Non-trainable params: 0\n",
      "_________________________________________________________________\n"
     ]
    }
   ],
   "source": [
    "model = Sequential()\n",
    "model.add(Conv2D(32, (3, 3), padding='same',\n",
    "                 input_shape=x_train.shape[1:]))\n",
    "model.add(Activation('relu'))\n",
    "model.add(Conv2D(32, (3, 3)))\n",
    "model.add(Activation('relu'))\n",
    "model.add(MaxPooling2D(pool_size=(2, 2)))\n",
    "model.add(Dropout(0.25))\n",
    "\n",
    "model.add(Conv2D(64, (3, 3), padding='same'))\n",
    "model.add(Activation('relu'))\n",
    "model.add(Conv2D(64, (3, 3)))\n",
    "model.add(Activation('relu'))\n",
    "model.add(MaxPooling2D(pool_size=(2, 2)))\n",
    "model.add(Dropout(0.25))\n",
    "\n",
    "model.add(Flatten())\n",
    "model.add(Dense(512))\n",
    "model.add(Activation('relu'))\n",
    "model.add(Dropout(0.5))\n",
    "model.add(Dense(num_classes))\n",
    "model.add(Activation('softmax'))\n",
    "model.summary()"
   ]
  },
  {
   "cell_type": "code",
   "execution_count": 7,
   "metadata": {},
   "outputs": [
    {
     "name": "stdout",
     "output_type": "stream",
     "text": [
      "Train on 50000 samples, validate on 10000 samples\n",
      "Epoch 1/30\n",
      "50000/50000 [==============================] - 158s 3ms/step - loss: 1.7569 - acc: 0.3645 - val_loss: 1.4402 - val_acc: 0.4961\n",
      "Epoch 2/30\n",
      "50000/50000 [==============================] - 153s 3ms/step - loss: 1.3494 - acc: 0.5188 - val_loss: 1.1138 - val_acc: 0.6065\n",
      "Epoch 3/30\n",
      "50000/50000 [==============================] - 152s 3ms/step - loss: 1.1533 - acc: 0.5936 - val_loss: 0.9712 - val_acc: 0.6647\n",
      "Epoch 4/30\n",
      "50000/50000 [==============================] - 152s 3ms/step - loss: 1.0120 - acc: 0.6464 - val_loss: 1.0431 - val_acc: 0.6369\n",
      "Epoch 5/30\n",
      "50000/50000 [==============================] - 152s 3ms/step - loss: 0.9171 - acc: 0.6796 - val_loss: 0.8454 - val_acc: 0.7127\n",
      "Epoch 6/30\n",
      "50000/50000 [==============================] - 151s 3ms/step - loss: 0.8446 - acc: 0.7063 - val_loss: 0.7775 - val_acc: 0.7324\n",
      "Epoch 7/30\n",
      "50000/50000 [==============================] - 151s 3ms/step - loss: 0.7923 - acc: 0.7266 - val_loss: 0.8115 - val_acc: 0.7202\n",
      "Epoch 8/30\n",
      "50000/50000 [==============================] - 151s 3ms/step - loss: 0.7456 - acc: 0.7420 - val_loss: 0.7650 - val_acc: 0.7402\n",
      "Epoch 9/30\n",
      "50000/50000 [==============================] - 156s 3ms/step - loss: 0.7101 - acc: 0.7533 - val_loss: 0.7811 - val_acc: 0.7330\n",
      "Epoch 10/30\n",
      "50000/50000 [==============================] - 152s 3ms/step - loss: 0.6805 - acc: 0.7662 - val_loss: 0.7351 - val_acc: 0.7529\n",
      "Epoch 11/30\n",
      "50000/50000 [==============================] - 159s 3ms/step - loss: 0.6564 - acc: 0.7732 - val_loss: 0.7036 - val_acc: 0.7654\n",
      "Epoch 12/30\n",
      "50000/50000 [==============================] - 158s 3ms/step - loss: 0.6456 - acc: 0.7791 - val_loss: 0.7347 - val_acc: 0.7644\n",
      "Epoch 13/30\n",
      "50000/50000 [==============================] - 157s 3ms/step - loss: 0.6368 - acc: 0.7828 - val_loss: 0.8201 - val_acc: 0.7423\n",
      "Epoch 14/30\n",
      "50000/50000 [==============================] - 163s 3ms/step - loss: 0.6260 - acc: 0.7860 - val_loss: 0.6658 - val_acc: 0.7841\n",
      "Epoch 15/30\n",
      "50000/50000 [==============================] - 162s 3ms/step - loss: 0.6186 - acc: 0.7915 - val_loss: 0.7326 - val_acc: 0.7738\n",
      "Epoch 16/30\n",
      "50000/50000 [==============================] - 163s 3ms/step - loss: 0.6140 - acc: 0.7954 - val_loss: 0.6859 - val_acc: 0.7846\n",
      "Epoch 17/30\n",
      "50000/50000 [==============================] - 161s 3ms/step - loss: 0.6109 - acc: 0.7956 - val_loss: 0.6964 - val_acc: 0.7708\n",
      "Epoch 18/30\n",
      "50000/50000 [==============================] - 166s 3ms/step - loss: 0.6063 - acc: 0.7971 - val_loss: 0.6853 - val_acc: 0.7793\n",
      "Epoch 19/30\n",
      "50000/50000 [==============================] - 167s 3ms/step - loss: 0.6054 - acc: 0.8013 - val_loss: 0.6813 - val_acc: 0.7720\n",
      "Epoch 20/30\n",
      "50000/50000 [==============================] - 166s 3ms/step - loss: 0.6020 - acc: 0.7993 - val_loss: 0.9056 - val_acc: 0.7626\n",
      "Epoch 21/30\n",
      "50000/50000 [==============================] - 169s 3ms/step - loss: 0.5941 - acc: 0.8030 - val_loss: 0.8046 - val_acc: 0.7719\n",
      "Epoch 22/30\n",
      "50000/50000 [==============================] - 165s 3ms/step - loss: 0.5988 - acc: 0.8031 - val_loss: 0.7188 - val_acc: 0.7878\n",
      "Epoch 23/30\n",
      "50000/50000 [==============================] - 164s 3ms/step - loss: 0.5988 - acc: 0.8034 - val_loss: 0.8484 - val_acc: 0.7334\n",
      "Epoch 24/30\n",
      "50000/50000 [==============================] - 168s 3ms/step - loss: 0.6026 - acc: 0.8022 - val_loss: 0.6833 - val_acc: 0.7828\n",
      "Epoch 25/30\n",
      "50000/50000 [==============================] - 181s 4ms/step - loss: 0.6080 - acc: 0.8005 - val_loss: 0.6957 - val_acc: 0.7823\n",
      "Epoch 26/30\n",
      "50000/50000 [==============================] - 156s 3ms/step - loss: 0.6020 - acc: 0.8002 - val_loss: 0.7397 - val_acc: 0.7714\n",
      "Epoch 27/30\n",
      "50000/50000 [==============================] - 158s 3ms/step - loss: 0.6053 - acc: 0.8034 - val_loss: 1.0512 - val_acc: 0.7104\n",
      "Epoch 28/30\n",
      "50000/50000 [==============================] - 166s 3ms/step - loss: 0.6074 - acc: 0.8044 - val_loss: 0.6978 - val_acc: 0.7823\n",
      "Epoch 29/30\n",
      "50000/50000 [==============================] - 163s 3ms/step - loss: 0.6069 - acc: 0.8038 - val_loss: 0.6730 - val_acc: 0.7951\n",
      "Epoch 30/30\n",
      "50000/50000 [==============================] - 163s 3ms/step - loss: 0.5975 - acc: 0.8043 - val_loss: 0.7555 - val_acc: 0.7802\n",
      "Test loss: 0.7554598755359649\n",
      "Test accuracy: 0.7802\n"
     ]
    }
   ],
   "source": [
    "model.compile(loss='categorical_crossentropy',\n",
    "              optimizer=RMSprop(),\n",
    "              metrics=['accuracy'])\n",
    "\n",
    "history = model.fit(x_train, y_train,\n",
    "                    batch_size=batch_size,\n",
    "                    epochs=epochs,\n",
    "                    verbose=1,\n",
    "                    validation_data=(x_test, y_test))\n",
    "score = model.evaluate(x_test, y_test, verbose=0)\n",
    "print('Test loss:', score[0])\n",
    "print('Test accuracy:', score[1])"
   ]
  },
  {
   "cell_type": "code",
   "execution_count": null,
   "metadata": {},
   "outputs": [],
   "source": []
  },
  {
   "cell_type": "code",
   "execution_count": null,
   "metadata": {},
   "outputs": [],
   "source": []
  },
  {
   "cell_type": "code",
   "execution_count": null,
   "metadata": {},
   "outputs": [],
   "source": []
  },
  {
   "cell_type": "code",
   "execution_count": null,
   "metadata": {},
   "outputs": [],
   "source": []
  },
  {
   "cell_type": "code",
   "execution_count": null,
   "metadata": {},
   "outputs": [],
   "source": []
  },
  {
   "cell_type": "code",
   "execution_count": null,
   "metadata": {},
   "outputs": [],
   "source": []
  }
 ],
 "metadata": {
  "kernelspec": {
   "display_name": "Python 3",
   "language": "python",
   "name": "python3"
  },
  "language_info": {
   "codemirror_mode": {
    "name": "ipython",
    "version": 3
   },
   "file_extension": ".py",
   "mimetype": "text/x-python",
   "name": "python",
   "nbconvert_exporter": "python",
   "pygments_lexer": "ipython3",
   "version": "3.7.1"
  }
 },
 "nbformat": 4,
 "nbformat_minor": 2
}
