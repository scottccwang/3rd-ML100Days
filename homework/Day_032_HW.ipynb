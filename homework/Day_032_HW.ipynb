{
 "cells": [
  {
   "cell_type": "markdown",
   "metadata": {
    "collapsed": true
   },
   "source": [
    "# 作業 : (Kaggle)鐵達尼生存預測"
   ]
  },
  {
   "cell_type": "markdown",
   "metadata": {},
   "source": [
    "# [作業目標]\n",
    "- 試著模仿範例寫法, 在鐵達尼生存預測中, 使用葉編碼並觀察預測效果"
   ]
  },
  {
   "cell_type": "markdown",
   "metadata": {},
   "source": [
    "# [作業重點]\n",
    "- 仿造範例, 完成葉編碼的寫作 : 使用隨機森林 (In[3], Out[3], In[4], Out[4])\n",
    "- 仿造範例, 觀察葉編碼搭配邏輯斯迴歸後的效果 (In[5], Out[5], In[6], Out[6]) "
   ]
  },
  {
   "cell_type": "code",
   "execution_count": 2,
   "metadata": {},
   "outputs": [
    {
     "data": {
      "text/html": [
       "<div>\n",
       "<style scoped>\n",
       "    .dataframe tbody tr th:only-of-type {\n",
       "        vertical-align: middle;\n",
       "    }\n",
       "\n",
       "    .dataframe tbody tr th {\n",
       "        vertical-align: top;\n",
       "    }\n",
       "\n",
       "    .dataframe thead th {\n",
       "        text-align: right;\n",
       "    }\n",
       "</style>\n",
       "<table border=\"1\" class=\"dataframe\">\n",
       "  <thead>\n",
       "    <tr style=\"text-align: right;\">\n",
       "      <th></th>\n",
       "      <th>Pclass</th>\n",
       "      <th>Name</th>\n",
       "      <th>Sex</th>\n",
       "      <th>Age</th>\n",
       "      <th>SibSp</th>\n",
       "      <th>Parch</th>\n",
       "      <th>Ticket</th>\n",
       "      <th>Fare</th>\n",
       "      <th>Cabin</th>\n",
       "      <th>Embarked</th>\n",
       "    </tr>\n",
       "  </thead>\n",
       "  <tbody>\n",
       "    <tr>\n",
       "      <th>0</th>\n",
       "      <td>3</td>\n",
       "      <td>Braund, Mr. Owen Harris</td>\n",
       "      <td>male</td>\n",
       "      <td>22.0</td>\n",
       "      <td>1</td>\n",
       "      <td>0</td>\n",
       "      <td>A/5 21171</td>\n",
       "      <td>7.2500</td>\n",
       "      <td>NaN</td>\n",
       "      <td>S</td>\n",
       "    </tr>\n",
       "    <tr>\n",
       "      <th>1</th>\n",
       "      <td>1</td>\n",
       "      <td>Cumings, Mrs. John Bradley (Florence Briggs Th...</td>\n",
       "      <td>female</td>\n",
       "      <td>38.0</td>\n",
       "      <td>1</td>\n",
       "      <td>0</td>\n",
       "      <td>PC 17599</td>\n",
       "      <td>71.2833</td>\n",
       "      <td>C85</td>\n",
       "      <td>C</td>\n",
       "    </tr>\n",
       "    <tr>\n",
       "      <th>2</th>\n",
       "      <td>3</td>\n",
       "      <td>Heikkinen, Miss. Laina</td>\n",
       "      <td>female</td>\n",
       "      <td>26.0</td>\n",
       "      <td>0</td>\n",
       "      <td>0</td>\n",
       "      <td>STON/O2. 3101282</td>\n",
       "      <td>7.9250</td>\n",
       "      <td>NaN</td>\n",
       "      <td>S</td>\n",
       "    </tr>\n",
       "    <tr>\n",
       "      <th>3</th>\n",
       "      <td>1</td>\n",
       "      <td>Futrelle, Mrs. Jacques Heath (Lily May Peel)</td>\n",
       "      <td>female</td>\n",
       "      <td>35.0</td>\n",
       "      <td>1</td>\n",
       "      <td>0</td>\n",
       "      <td>113803</td>\n",
       "      <td>53.1000</td>\n",
       "      <td>C123</td>\n",
       "      <td>S</td>\n",
       "    </tr>\n",
       "    <tr>\n",
       "      <th>4</th>\n",
       "      <td>3</td>\n",
       "      <td>Allen, Mr. William Henry</td>\n",
       "      <td>male</td>\n",
       "      <td>35.0</td>\n",
       "      <td>0</td>\n",
       "      <td>0</td>\n",
       "      <td>373450</td>\n",
       "      <td>8.0500</td>\n",
       "      <td>NaN</td>\n",
       "      <td>S</td>\n",
       "    </tr>\n",
       "  </tbody>\n",
       "</table>\n",
       "</div>"
      ],
      "text/plain": [
       "   Pclass                                               Name     Sex   Age  \\\n",
       "0       3                            Braund, Mr. Owen Harris    male  22.0   \n",
       "1       1  Cumings, Mrs. John Bradley (Florence Briggs Th...  female  38.0   \n",
       "2       3                             Heikkinen, Miss. Laina  female  26.0   \n",
       "3       1       Futrelle, Mrs. Jacques Heath (Lily May Peel)  female  35.0   \n",
       "4       3                           Allen, Mr. William Henry    male  35.0   \n",
       "\n",
       "   SibSp  Parch            Ticket     Fare Cabin Embarked  \n",
       "0      1      0         A/5 21171   7.2500   NaN        S  \n",
       "1      1      0          PC 17599  71.2833   C85        C  \n",
       "2      0      0  STON/O2. 3101282   7.9250   NaN        S  \n",
       "3      1      0            113803  53.1000  C123        S  \n",
       "4      0      0            373450   8.0500   NaN        S  "
      ]
     },
     "execution_count": 2,
     "metadata": {},
     "output_type": "execute_result"
    }
   ],
   "source": [
    "# 做完特徵工程前的所有準備\n",
    "import pandas as pd\n",
    "import numpy as np\n",
    "import copy\n",
    "from sklearn.preprocessing import LabelEncoder, MinMaxScaler\n",
    "from sklearn.linear_model import LogisticRegression\n",
    "from sklearn.ensemble import RandomForestClassifier\n",
    "# 因為擬合(fit)與編碼(transform)需要分開, 因此不使用.get_dummy, 而採用 sklearn 的 OneHotEncoder\n",
    "from sklearn.preprocessing import OneHotEncoder\n",
    "from sklearn.model_selection import train_test_split\n",
    "from sklearn.metrics import roc_curve\n",
    "\n",
    "data_path = 'data/'\n",
    "df = pd.read_csv(data_path + 'titanic_train.csv')\n",
    "\n",
    "train_Y = df['Survived']\n",
    "df = df.drop(['PassengerId', 'Survived'] , axis=1)\n",
    "df.head()"
   ]
  },
  {
   "cell_type": "code",
   "execution_count": 3,
   "metadata": {},
   "outputs": [
    {
     "name": "stderr",
     "output_type": "stream",
     "text": [
      "C:\\ProgramData\\Anaconda3\\lib\\site-packages\\sklearn\\utils\\validation.py:595: DataConversionWarning: Data with input dtype int64 was converted to float64 by MinMaxScaler.\n",
      "  warnings.warn(msg, DataConversionWarning)\n",
      "C:\\ProgramData\\Anaconda3\\lib\\site-packages\\sklearn\\utils\\validation.py:595: DataConversionWarning: Data with input dtype int64 was converted to float64 by MinMaxScaler.\n",
      "  warnings.warn(msg, DataConversionWarning)\n",
      "C:\\ProgramData\\Anaconda3\\lib\\site-packages\\sklearn\\utils\\validation.py:595: DataConversionWarning: Data with input dtype int64 was converted to float64 by MinMaxScaler.\n",
      "  warnings.warn(msg, DataConversionWarning)\n",
      "C:\\ProgramData\\Anaconda3\\lib\\site-packages\\sklearn\\utils\\validation.py:595: DataConversionWarning: Data with input dtype int64 was converted to float64 by MinMaxScaler.\n",
      "  warnings.warn(msg, DataConversionWarning)\n",
      "C:\\ProgramData\\Anaconda3\\lib\\site-packages\\sklearn\\utils\\validation.py:595: DataConversionWarning: Data with input dtype int64 was converted to float64 by MinMaxScaler.\n",
      "  warnings.warn(msg, DataConversionWarning)\n",
      "C:\\ProgramData\\Anaconda3\\lib\\site-packages\\sklearn\\utils\\validation.py:595: DataConversionWarning: Data with input dtype int64 was converted to float64 by MinMaxScaler.\n",
      "  warnings.warn(msg, DataConversionWarning)\n",
      "C:\\ProgramData\\Anaconda3\\lib\\site-packages\\sklearn\\utils\\validation.py:595: DataConversionWarning: Data with input dtype int64 was converted to float64 by MinMaxScaler.\n",
      "  warnings.warn(msg, DataConversionWarning)\n",
      "C:\\ProgramData\\Anaconda3\\lib\\site-packages\\sklearn\\utils\\validation.py:595: DataConversionWarning: Data with input dtype int64 was converted to float64 by MinMaxScaler.\n",
      "  warnings.warn(msg, DataConversionWarning)\n"
     ]
    },
    {
     "data": {
      "text/html": [
       "<div>\n",
       "<style scoped>\n",
       "    .dataframe tbody tr th:only-of-type {\n",
       "        vertical-align: middle;\n",
       "    }\n",
       "\n",
       "    .dataframe tbody tr th {\n",
       "        vertical-align: top;\n",
       "    }\n",
       "\n",
       "    .dataframe thead th {\n",
       "        text-align: right;\n",
       "    }\n",
       "</style>\n",
       "<table border=\"1\" class=\"dataframe\">\n",
       "  <thead>\n",
       "    <tr style=\"text-align: right;\">\n",
       "      <th></th>\n",
       "      <th>Pclass</th>\n",
       "      <th>Name</th>\n",
       "      <th>Sex</th>\n",
       "      <th>Age</th>\n",
       "      <th>SibSp</th>\n",
       "      <th>Parch</th>\n",
       "      <th>Ticket</th>\n",
       "      <th>Fare</th>\n",
       "      <th>Cabin</th>\n",
       "      <th>Embarked</th>\n",
       "    </tr>\n",
       "  </thead>\n",
       "  <tbody>\n",
       "    <tr>\n",
       "      <th>0</th>\n",
       "      <td>1.0</td>\n",
       "      <td>0.121348</td>\n",
       "      <td>1.0</td>\n",
       "      <td>0.283951</td>\n",
       "      <td>0.125</td>\n",
       "      <td>0.0</td>\n",
       "      <td>0.769118</td>\n",
       "      <td>0.014151</td>\n",
       "      <td>0.000000</td>\n",
       "      <td>1.000000</td>\n",
       "    </tr>\n",
       "    <tr>\n",
       "      <th>1</th>\n",
       "      <td>0.0</td>\n",
       "      <td>0.213483</td>\n",
       "      <td>0.0</td>\n",
       "      <td>0.481481</td>\n",
       "      <td>0.125</td>\n",
       "      <td>0.0</td>\n",
       "      <td>0.876471</td>\n",
       "      <td>0.139136</td>\n",
       "      <td>0.557823</td>\n",
       "      <td>0.333333</td>\n",
       "    </tr>\n",
       "    <tr>\n",
       "      <th>2</th>\n",
       "      <td>1.0</td>\n",
       "      <td>0.396629</td>\n",
       "      <td>0.0</td>\n",
       "      <td>0.333333</td>\n",
       "      <td>0.000</td>\n",
       "      <td>0.0</td>\n",
       "      <td>0.983824</td>\n",
       "      <td>0.015469</td>\n",
       "      <td>0.000000</td>\n",
       "      <td>1.000000</td>\n",
       "    </tr>\n",
       "    <tr>\n",
       "      <th>3</th>\n",
       "      <td>0.0</td>\n",
       "      <td>0.305618</td>\n",
       "      <td>0.0</td>\n",
       "      <td>0.444444</td>\n",
       "      <td>0.125</td>\n",
       "      <td>0.0</td>\n",
       "      <td>0.072059</td>\n",
       "      <td>0.103644</td>\n",
       "      <td>0.380952</td>\n",
       "      <td>1.000000</td>\n",
       "    </tr>\n",
       "    <tr>\n",
       "      <th>4</th>\n",
       "      <td>1.0</td>\n",
       "      <td>0.016854</td>\n",
       "      <td>1.0</td>\n",
       "      <td>0.444444</td>\n",
       "      <td>0.000</td>\n",
       "      <td>0.0</td>\n",
       "      <td>0.694118</td>\n",
       "      <td>0.015713</td>\n",
       "      <td>0.000000</td>\n",
       "      <td>1.000000</td>\n",
       "    </tr>\n",
       "  </tbody>\n",
       "</table>\n",
       "</div>"
      ],
      "text/plain": [
       "   Pclass      Name  Sex       Age  SibSp  Parch    Ticket      Fare  \\\n",
       "0     1.0  0.121348  1.0  0.283951  0.125    0.0  0.769118  0.014151   \n",
       "1     0.0  0.213483  0.0  0.481481  0.125    0.0  0.876471  0.139136   \n",
       "2     1.0  0.396629  0.0  0.333333  0.000    0.0  0.983824  0.015469   \n",
       "3     0.0  0.305618  0.0  0.444444  0.125    0.0  0.072059  0.103644   \n",
       "4     1.0  0.016854  1.0  0.444444  0.000    0.0  0.694118  0.015713   \n",
       "\n",
       "      Cabin  Embarked  \n",
       "0  0.000000  1.000000  \n",
       "1  0.557823  0.333333  \n",
       "2  0.000000  1.000000  \n",
       "3  0.380952  1.000000  \n",
       "4  0.000000  1.000000  "
      ]
     },
     "execution_count": 3,
     "metadata": {},
     "output_type": "execute_result"
    }
   ],
   "source": [
    "# 因為需要把類別型與數值型特徵都加入, 故使用最簡版的特徵工程\n",
    "LEncoder = LabelEncoder()\n",
    "MMEncoder = MinMaxScaler()\n",
    "for c in df.columns:\n",
    "    df[c] = df[c].fillna(-1)\n",
    "    if df[c].dtype == 'object':\n",
    "        df[c] = LEncoder.fit_transform(list(df[c].values))\n",
    "    df[c] = MMEncoder.fit_transform(df[c].values.reshape(-1, 1))\n",
    "df.head()"
   ]
  },
  {
   "cell_type": "code",
   "execution_count": 4,
   "metadata": {},
   "outputs": [],
   "source": [
    "train_X = df.values\n",
    "# 因為訓練邏輯斯迴歸時也要資料, 因此將訓練及切成三部分 train / val / test, 採用 test 驗證而非 k-fold 交叉驗證\n",
    "# train 用來訓練梯度提升樹, val 用來訓練邏輯斯迴歸, test 驗證效果\n",
    "train_X, test_X, train_Y, test_Y = train_test_split(train_X, train_Y, test_size=0.5)\n",
    "train_X, val_X, train_Y, val_Y = train_test_split(train_X, train_Y, test_size=0.5)"
   ]
  },
  {
   "cell_type": "markdown",
   "metadata": {
    "collapsed": true
   },
   "source": [
    "# 作業1\n",
    "* 請對照範例，完成隨機森林的鐵達尼生存率預測，以及對應的葉編碼+邏輯斯迴歸"
   ]
  },
  {
   "cell_type": "code",
   "execution_count": 6,
   "metadata": {},
   "outputs": [
    {
     "name": "stderr",
     "output_type": "stream",
     "text": [
      "C:\\ProgramData\\Anaconda3\\lib\\site-packages\\sklearn\\preprocessing\\_encoders.py:368: FutureWarning: The handling of integer data will change in version 0.22. Currently, the categories are determined based on the range [0, max(values)], while in the future they will be determined based on the unique values.\n",
      "If you want the future behaviour and silence this warning, you can specify \"categories='auto'\".\n",
      "In case you used a LabelEncoder before this OneHotEncoder to convert the categories to integers, then you can now use the OneHotEncoder directly.\n",
      "  warnings.warn(msg, FutureWarning)\n"
     ]
    },
    {
     "data": {
      "text/plain": [
       "LogisticRegression(C=1.0, class_weight=None, dual=False, fit_intercept=True,\n",
       "          intercept_scaling=1, max_iter=1000, multi_class='warn',\n",
       "          n_jobs=None, penalty='l2', random_state=None, solver='lbfgs',\n",
       "          tol=0.0001, verbose=0, warm_start=False)"
      ]
     },
     "execution_count": 6,
     "metadata": {},
     "output_type": "execute_result"
    }
   ],
   "source": [
    "# 隨機森林擬合後, 再將葉編碼 (*.apply) 結果做獨熱 / 邏輯斯迴歸\n",
    "rf = RandomForestClassifier(n_estimators=20, min_samples_split=10, min_samples_leaf=5, \n",
    "                            max_features=4, max_depth=3, bootstrap=True)\n",
    "onehot = OneHotEncoder()\n",
    "lr = LogisticRegression(solver='lbfgs', max_iter=1000)\n",
    "\n",
    "\"\"\"\n",
    "Your Code Here (Hint : 隨機森林的葉編碼(.apply)不需要加上[:, :, 0], 直接用rf.apply()調用即可, 本作業其餘寫法相同)\n",
    "\"\"\"\n",
    "\n",
    "rf.fit(train_X, train_Y)\n",
    "onehot.fit(rf.apply(train_X))\n",
    "lr.fit(onehot.transform(rf.apply(val_X)), val_Y)"
   ]
  },
  {
   "cell_type": "code",
   "execution_count": 8,
   "metadata": {},
   "outputs": [],
   "source": [
    "# 將隨機森林+葉編碼+邏輯斯迴歸結果輸出\n",
    "\"\"\"\n",
    "Your Code Here \n",
    "\"\"\"\n",
    "pred_rf_lr = lr.predict_proba(onehot.transform(rf.apply(test_X)))[:, 1]\n",
    "fpr_rf_lr, tpr_rf_lr, _ = roc_curve(test_Y, pred_rf_lr)\n",
    "# 將隨機森林結果輸出\n",
    "\"\"\"\n",
    "Your Code Here \n",
    "\"\"\"\n",
    "pred_rf = rf.predict_proba(test_X)[:, 1]\n",
    "fpr_rf, tpr_rf, _ = roc_curve(test_Y, pred_rf)"
   ]
  },
  {
   "cell_type": "markdown",
   "metadata": {},
   "source": [
    "# 作業2\n",
    "* 上述的結果，葉編碼是否有提高預測的正確性呢?"
   ]
  },
  {
   "cell_type": "code",
   "execution_count": 10,
   "metadata": {},
   "outputs": [
    {
     "data": {
      "image/png": "[encoded data removed]",
      "text/plain": [
       "<Figure size 432x288 with 1 Axes>"
      ]
     },
     "metadata": {
      "needs_background": "light"
     },
     "output_type": "display_data"
    }
   ],
   "source": [
    "import matplotlib.pyplot as plt\n",
    "# 將結果繪圖\n",
    "\"\"\"\n",
    "Your Code Here \n",
    "\"\"\"\n",
    "plt.plot([0, 1], [0, 1], 'k--')\n",
    "plt.plot(fpr_rf, tpr_rf, label='RF')\n",
    "plt.plot(fpr_rf_lr, tpr_rf_lr, label='RF + LR')\n",
    "plt.xlabel('False positive rate')\n",
    "plt.ylabel('True positive rate')\n",
    "plt.title('ROC curve')\n",
    "plt.legend(loc='best')\n",
    "plt.show()"
   ]
  },
  {
   "cell_type": "code",
   "execution_count": 11,
   "metadata": {},
   "outputs": [
    {
     "data": {
      "text/plain": [
       "array([[4, 6, 4, ..., 7, 7, 6],\n",
       "       [4, 4, 3, ..., 3, 6, 3],\n",
       "       [4, 6, 4, ..., 7, 7, 6],\n",
       "       ...,\n",
       "       [3, 6, 4, ..., 7, 7, 6],\n",
       "       [3, 6, 4, ..., 6, 7, 6],\n",
       "       [4, 6, 4, ..., 6, 7, 6]], dtype=int64)"
      ]
     },
     "execution_count": 11,
     "metadata": {},
     "output_type": "execute_result"
    }
   ],
   "source": [
    "result = rf.apply(test_X)\n",
    "result"
   ]
  },
  {
   "cell_type": "code",
   "execution_count": 15,
   "metadata": {},
   "outputs": [
    {
     "data": {
      "text/plain": [
       "array([0.08762426, 0.89082776, 0.21078769, 0.05292482, 0.13268229,\n",
       "       0.73262562, 0.3382208 , 0.30885586, 0.86432936, 0.98677575,\n",
       "       0.08282323, 0.27697436, 0.02049506, 0.03920054, 0.575657  ,\n",
       "       0.71346371, 0.05161729, 0.99790876, 0.9977375 , 0.98571839,\n",
       "       0.13999185, 0.02692162, 0.74423689, 0.17384544, 0.2871201 ,\n",
       "       0.75069538, 0.05161729, 0.04329407, 0.39439273, 0.00313899,\n",
       "       0.94414731, 0.15107838, 0.06059251, 0.21078769, 0.03905182,\n",
       "       0.62577359, 0.05314592, 0.35373036, 0.10567735, 0.06059251,\n",
       "       0.1393011 , 0.55678494, 0.99134236, 0.29334748, 0.47062136,\n",
       "       0.97077032, 0.27752866, 0.05161729, 0.14383838, 0.14383838,\n",
       "       0.1584784 , 0.90517941, 0.01909015, 0.98174091, 0.9775411 ,\n",
       "       0.06673649, 0.66047406, 0.48077989, 0.35590616, 0.82904339,\n",
       "       0.02465993, 0.46618903, 0.88936521, 0.30756162, 0.0285431 ,\n",
       "       0.19303246, 0.76190685, 0.05196119, 0.21078769, 0.11918767,\n",
       "       0.99423526, 0.72332874, 0.99014624, 0.08762426, 0.20316195,\n",
       "       0.0831996 , 0.08149202, 0.14383838, 0.98461794, 0.07190885,\n",
       "       0.72332874, 0.04329407, 0.05205623, 0.95774826, 0.19923753,\n",
       "       0.28020166, 0.92020841, 0.21222966, 0.15107838, 0.90595894,\n",
       "       0.02360783, 0.98102075, 0.92352884, 0.07190885, 0.15107838,\n",
       "       0.11441968, 0.05534432, 0.04600412, 0.38639144, 0.06301161,\n",
       "       0.99493918, 0.48728603, 0.06059251, 0.21078769, 0.05161729,\n",
       "       0.04929064, 0.98563947, 0.67049113, 0.09969005, 0.12399944,\n",
       "       0.4583475 , 0.09452558, 0.64677973, 0.04847592, 0.02213897,\n",
       "       0.17877619, 0.91681126, 0.4357817 , 0.99435209, 0.71352135,\n",
       "       0.95310423, 0.16640759, 0.34977217, 0.04945572, 0.09148363,\n",
       "       0.07395271, 0.17777951, 0.10401377, 0.1380907 , 0.03993366,\n",
       "       0.99181864, 0.31255017, 0.34711789, 0.93998448, 0.9747988 ,\n",
       "       0.04469448, 0.02326728, 0.22036741, 0.13324411, 0.05161729,\n",
       "       0.46618903, 0.05161729, 0.30317772, 0.19464996, 0.09148363,\n",
       "       0.072131  , 0.11195577, 0.1942851 , 0.77777017, 0.04633866,\n",
       "       0.8722795 , 0.17980667, 0.06040327, 0.02447162, 0.93695226,\n",
       "       0.35145423, 0.40093449, 0.15107838, 0.06470659, 0.90736383,\n",
       "       0.15538729, 0.10242954, 0.04019532, 0.31640204, 0.2058262 ,\n",
       "       0.99235675, 0.0345208 , 0.0425318 , 0.60544127, 0.1393011 ,\n",
       "       0.89182205, 0.18224165, 0.21078769, 0.34711789, 0.05475225,\n",
       "       0.51879828, 0.63531349, 0.92896442, 0.98931039, 0.98010598,\n",
       "       0.02447162, 0.74423689, 0.08762426, 0.88375657, 0.99380035,\n",
       "       0.93918574, 0.68912492, 0.93313276, 0.08762426, 0.76190685,\n",
       "       0.10739962, 0.04019532, 0.90263167, 0.36503525, 0.0332862 ,\n",
       "       0.93056377, 0.21078769, 0.04945572, 0.17563883, 0.03622554,\n",
       "       0.73092573, 0.65071634, 0.98635969, 0.16476476, 0.04172841,\n",
       "       0.05071142, 0.07395271, 0.0285431 , 0.16211784, 0.31255017,\n",
       "       0.04329407, 0.17176141, 0.90872596, 0.66926368, 0.06979789,\n",
       "       0.08446103, 0.17176141, 0.97406518, 0.07347454, 0.92562354,\n",
       "       0.6440061 , 0.47818436, 0.08762426, 0.78815179, 0.46894954,\n",
       "       0.08762426, 0.50865405, 0.04019532, 0.08762426, 0.21222966,\n",
       "       0.04223382, 0.07731118, 0.96467259, 0.95460177, 0.34071673,\n",
       "       0.95794047, 0.02466898, 0.2806015 , 0.1393011 , 0.76190685,\n",
       "       0.19008059, 0.1308752 , 0.20207412, 0.73844337, 0.87946243,\n",
       "       0.94700055, 0.14383838, 0.24558372, 0.93830306, 0.86829864,\n",
       "       0.33421531, 0.38879166, 0.01903702, 0.24896949, 0.27752866,\n",
       "       0.12778211, 0.29334748, 0.17877619, 0.19223806, 0.02563966,\n",
       "       0.06704294, 0.35347436, 0.98115147, 0.45198378, 0.81865282,\n",
       "       0.96475456, 0.40083414, 0.15449495, 0.09642168, 0.04583512,\n",
       "       0.90874768, 0.16931456, 0.93031262, 0.3919009 , 0.21078769,\n",
       "       0.95398601, 0.02129364, 0.93153838, 0.46618903, 0.84026336,\n",
       "       0.21078769, 0.90874768, 0.02447162, 0.3578114 , 0.05161729,\n",
       "       0.62577359, 0.12373318, 0.760449  , 0.14383838, 0.1393011 ,\n",
       "       0.15673241, 0.05314592, 0.05071142, 0.04810192, 0.11245685,\n",
       "       0.21180795, 0.2552199 , 0.03554268, 0.14762283, 0.05196119,\n",
       "       0.05314592, 0.81074133, 0.33073774, 0.87946243, 0.10259037,\n",
       "       0.66946911, 0.05161729, 0.50304124, 0.99202003, 0.42702359,\n",
       "       0.21513148, 0.06301161, 0.19350242, 0.76365461, 0.08380376,\n",
       "       0.95398601, 0.53956824, 0.64127697, 0.92640015, 0.14383838,\n",
       "       0.13190131, 0.14062052, 0.9654127 , 0.88936521, 0.65003796,\n",
       "       0.21207435, 0.60004566, 0.50250114, 0.0285431 , 0.43728178,\n",
       "       0.09205068, 0.9958258 , 0.86043801, 0.82471135, 0.16001283,\n",
       "       0.11434554, 0.08762426, 0.62577359, 0.05161729, 0.04329407,\n",
       "       0.25543615, 0.03821839, 0.86868872, 0.79586285, 0.09969005,\n",
       "       0.38449699, 0.06059251, 0.71337987, 0.79651755, 0.29385842,\n",
       "       0.74684477, 0.02447162, 0.27787839, 0.64127697, 0.06881272,\n",
       "       0.04440489, 0.57396527, 0.21078769, 0.4583475 , 0.92020841,\n",
       "       0.75304769, 0.05534432, 0.20874215, 0.92273767, 0.02447162,\n",
       "       0.04600412, 0.96652864, 0.09969005, 0.91681126, 0.95270208,\n",
       "       0.06002363, 0.04255299, 0.60558289, 0.36555133, 0.62577359,\n",
       "       0.58877175, 0.21078769, 0.08762426, 0.37793313, 0.04440489,\n",
       "       0.99610642, 0.99103849, 0.05196119, 0.21078769, 0.93332438,\n",
       "       0.08282323, 0.55678494, 0.10000322, 0.1816307 , 0.06301161,\n",
       "       0.14096194, 0.29651904, 0.73338839, 0.1393011 , 0.23898349,\n",
       "       0.66047406, 0.91660638, 0.57752478, 0.04600412, 0.0285431 ,\n",
       "       0.98300113, 0.51879828, 0.88703833, 0.31255017, 0.04329407,\n",
       "       0.2806015 , 0.12607182, 0.03000848, 0.1876517 , 0.08149202,\n",
       "       0.17555593, 0.05161729, 0.20207412, 0.95292687, 0.23898349,\n",
       "       0.05476155, 0.36208436, 0.98056857, 0.95604949, 0.08941244,\n",
       "       0.87946243, 0.05415437, 0.32053178, 0.90981112, 0.82904339,\n",
       "       0.04929064, 0.75362442, 0.55353081, 0.03435974, 0.20316195,\n",
       "       0.0224515 , 0.97482997, 0.62577359, 0.04046637, 0.12721283,\n",
       "       0.9546904 , 0.04329407, 0.48598787, 0.04275563, 0.02379206,\n",
       "       0.02129364, 0.18803678, 0.35347436, 0.04046637, 0.06943327,\n",
       "       0.05900555])"
      ]
     },
     "execution_count": 15,
     "metadata": {},
     "output_type": "execute_result"
    }
   ],
   "source": [
    "result_oh = lr.predict_proba(onehot.transform(rf.apply(test_X)))[:, 1]\n",
    "result_oh"
   ]
  },
  {
   "cell_type": "code",
   "execution_count": null,
   "metadata": {},
   "outputs": [],
   "source": []
  }
 ],
 "metadata": {
  "kernelspec": {
   "display_name": "Python 3",
   "language": "python",
   "name": "python3"
  },
  "language_info": {
   "codemirror_mode": {
    "name": "ipython",
    "version": 3
   },
   "file_extension": ".py",
   "mimetype": "text/x-python",
   "name": "python",
   "nbconvert_exporter": "python",
   "pygments_lexer": "ipython3",
   "version": "3.7.1"
  }
 },
 "nbformat": 4,
 "nbformat_minor": 2
}
